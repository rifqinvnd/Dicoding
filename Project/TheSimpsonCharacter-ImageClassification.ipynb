{
  "nbformat": 4,
  "nbformat_minor": 0,
  "metadata": {
    "colab": {
      "name": "RifqiNovandi_TugasAkhir_ImageClassifier.ipynb",
      "provenance": []
    },
    "kernelspec": {
      "name": "python3",
      "display_name": "Python 3"
    },
    "language_info": {
      "name": "python"
    },
    "accelerator": "GPU"
  },
  "cells": [
    {
      "cell_type": "markdown",
      "metadata": {
        "id": "cR0TH0FpCRbm"
      },
      "source": [
        "# Rifqi Novandi\n",
        "Tugas Akhir Deployment"
      ]
    },
    {
      "cell_type": "markdown",
      "metadata": {
        "id": "QAa3KndgFMV1"
      },
      "source": [
        "Import Dictionary from Kaggle\n",
        "\n",
        "Simpson Classification Dataset\n",
        "https://www.kaggle.com/mathurinache/simpsons-images\n",
        "\n",
        "Dataset memiliki lebih dari 10000 data dan memiliki resolusi yang berbeda-beda"
      ]
    },
    {
      "cell_type": "code",
      "metadata": {
        "id": "Hxwe_wODu9Z0"
      },
      "source": [
        "import os\n",
        "\n",
        "os.environ['KAGGLE_USERNAME'] = 'rifqinovandi'\n",
        "os.environ['KAGGLE_KEY'] = 'd50fccc96f3e2238ad06dac3037b103c'"
      ],
      "execution_count": null,
      "outputs": []
    },
    {
      "cell_type": "code",
      "metadata": {
        "colab": {
          "base_uri": "https://localhost:8080/"
        },
        "id": "yB83sbrhvGUt",
        "outputId": "1065e9e9-a8ae-4c2d-d8a9-14ec3937851c"
      },
      "source": [
        "!kaggle datasets download -d mathurinache/simpsons-images"
      ],
      "execution_count": null,
      "outputs": [
        {
          "output_type": "stream",
          "text": [
            "simpsons-images.zip: Skipping, found more recently modified local copy (use --force to force download)\n"
          ],
          "name": "stdout"
        }
      ]
    },
    {
      "cell_type": "code",
      "metadata": {
        "id": "iFKRPWp4vLYF"
      },
      "source": [
        "import zipfile\n",
        "\n",
        "files = \"/content/simpsons-images.zip\"\n",
        "zip = zipfile.ZipFile(files, 'r')\n",
        "zip.extractall('/content')\n",
        "zip.close()"
      ],
      "execution_count": null,
      "outputs": []
    },
    {
      "cell_type": "markdown",
      "metadata": {
        "id": "-QBKjQE_JCeb"
      },
      "source": [
        "Clean Dataset"
      ]
    },
    {
      "cell_type": "code",
      "metadata": {
        "id": "yPbGm1cMvqQR"
      },
      "source": [
        "base_dir = \"/content/train\""
      ],
      "execution_count": null,
      "outputs": []
    },
    {
      "cell_type": "code",
      "metadata": {
        "id": "HlpuLdgg3eM8"
      },
      "source": [
        "import shutil\n",
        "\n",
        "used = ['bart_simpson', 'charles_montgomery_burns',\n",
        "        'homer_simpson','lisa_simpson', 'marge_simpson',\n",
        "        'krusty_the_clown','moe_szyslak', 'ned_flanders',\n",
        "        'principal_skinner']\n",
        "\n",
        "list_dir = os.listdir(base_dir)\n",
        "dest = '/content/used_train_dir'\n",
        "\n",
        "for dir in list_dir:\n",
        "    if dir in used:\n",
        "        dir_to_move = os.path.join(base_dir, dir)\n",
        "        shutil.move(dir_to_move, dest)"
      ],
      "execution_count": null,
      "outputs": []
    },
    {
      "cell_type": "code",
      "metadata": {
        "id": "ATHCG9RPFlLT"
      },
      "source": [
        "k = ['krusty_the_clown']\n",
        "\n",
        "for dir in list_dir:\n",
        "    if dir in k:\n",
        "        dir_to_move = os.path.join(base_dir, dir)\n",
        "        shutil.move(dir_to_move, dest)"
      ],
      "execution_count": null,
      "outputs": []
    },
    {
      "cell_type": "code",
      "metadata": {
        "id": "2OhUA5wN3a5S"
      },
      "source": [
        "used_dir = '/content/used_train_dir'\n",
        "\n",
        "bart_dir = os.path.join(used_dir, \"bart_simpson\")\n",
        "charles_dir = os.path.join(used_dir, \"charles_montgomery_burns\")\n",
        "homer_dir = os.path.join(used_dir, \"homer_simpson\")\n",
        "krusty_dir = os.path.join(used_dir, \"krusty_the_clown\")\n",
        "milhouse_dir = os.path.join(used_dir, \"milhouse_van_houten\")\n",
        "marge_dir = os.path.join(used_dir, \"marge_simpson\")\n",
        "moe_dir = os.path.join(used_dir, \"moe_szyslak\")\n",
        "ned_dir = os.path.join(used_dir, \"ned_flanders\")\n",
        "principal_dir = os.path.join(used_dir, \"principal_skinner\")"
      ],
      "execution_count": null,
      "outputs": []
    },
    {
      "cell_type": "code",
      "metadata": {
        "colab": {
          "base_uri": "https://localhost:8080/"
        },
        "id": "ovZGgCDrxj3C",
        "outputId": "77f10d40-f5e6-43d5-b767-c2ea98f25418"
      },
      "source": [
        "bart_total = len(os.listdir(bart_dir))\n",
        "charles_total = len(os.listdir(charles_dir))\n",
        "homer_total = len(os.listdir(homer_dir))\n",
        "krusty_total = len(os.listdir(krusty_dir))\n",
        "milhouse_total = len(os.listdir(milhouse_dir))\n",
        "marge_total = len(os.listdir(marge_dir))\n",
        "moe_total = len(os.listdir(moe_dir))\n",
        "ned_total = len(os.listdir(ned_dir))\n",
        "principal_total = len(os.listdir(principal_dir))\n",
        "\n",
        "print('Total Data Bart       : ', bart_total)\n",
        "print('Total Data Charles    : ', charles_total)\n",
        "print('Total Data Homer      : ', homer_total)\n",
        "print('Total Data Krusty     : ', krusty_total)\n",
        "print('Total Data Milhouse   : ', milhouse_total)\n",
        "print('Total Data Marge      : ', marge_total)\n",
        "print('Total Data Moe        : ', moe_total)\n",
        "print('Total Data Ned        : ', ned_total)\n",
        "print('Total Data Principal  : ', principal_total)"
      ],
      "execution_count": null,
      "outputs": [
        {
          "output_type": "stream",
          "text": [
            "Total Data Bart       :  1142\n",
            "Total Data Charles    :  993\n",
            "Total Data Homer      :  2046\n",
            "Total Data Krusty     :  1006\n",
            "Total Data Milhouse   :  879\n",
            "Total Data Marge      :  1091\n",
            "Total Data Moe        :  1252\n",
            "Total Data Ned        :  1254\n",
            "Total Data Principal  :  994\n"
          ],
          "name": "stdout"
        }
      ]
    },
    {
      "cell_type": "markdown",
      "metadata": {
        "id": "gkdC_UzjJPEm"
      },
      "source": [
        "Dataset yang digunakan berjumlah 10657"
      ]
    },
    {
      "cell_type": "code",
      "metadata": {
        "colab": {
          "base_uri": "https://localhost:8080/"
        },
        "id": "jxdiYaI2yy7-",
        "outputId": "606a2cd7-d3fe-4b99-8619-eace631e60af"
      },
      "source": [
        "total_data = bart_total+charles_total+homer_total+krusty_total+milhouse_total+marge_total+moe_total+ned_total+principal_total\n",
        "print('Total Data yang digunakan : ', total_data)"
      ],
      "execution_count": null,
      "outputs": [
        {
          "output_type": "stream",
          "text": [
            "Total Data yang digunakan :  10657\n"
          ],
          "name": "stdout"
        }
      ]
    },
    {
      "cell_type": "markdown",
      "metadata": {
        "id": "l7-N46H2Kbmp"
      },
      "source": [
        "Memisahkan Training dan Validation 20 %"
      ]
    },
    {
      "cell_type": "code",
      "metadata": {
        "id": "n0wAbQLG0kx-"
      },
      "source": [
        "from tensorflow.keras.preprocessing.image import ImageDataGenerator\n",
        "\n",
        "val_size = 0.2\n",
        "\n",
        "train_datagen = ImageDataGenerator(\n",
        "    rescale = 1./255,\n",
        "    rotation_range=0,\n",
        "    shear_range=0.2,\n",
        "    zoom_range=0,\n",
        "    horizontal_flip=True,\n",
        "    fill_mode=\"nearest\",\n",
        "    validation_split=val_size\n",
        ")\n",
        "\n",
        "validation_datagen = ImageDataGenerator(\n",
        "    rescale = 1./255,\n",
        "    horizontal_flip=False,\n",
        "    fill_mode=\"nearest\",\n",
        "    validation_split=val_size\n",
        ")"
      ],
      "execution_count": null,
      "outputs": []
    },
    {
      "cell_type": "code",
      "metadata": {
        "colab": {
          "base_uri": "https://localhost:8080/"
        },
        "id": "id-t86HF1pit",
        "outputId": "69b0e64a-d2c7-465a-cead-4984668dcf9c"
      },
      "source": [
        "train_gen = train_datagen.flow_from_directory(\n",
        "    used_dir,\n",
        "    target_size=(160, 160),\n",
        "    batch_size=32,\n",
        "    class_mode='categorical',\n",
        "    shuffle=True,\n",
        "    subset='training'\n",
        ")\n",
        "\n",
        "validation_gen = validation_datagen.flow_from_directory(\n",
        "    used_dir,\n",
        "    target_size=(160, 160),\n",
        "    batch_size=32,\n",
        "    class_mode='categorical',\n",
        "    shuffle=False,\n",
        "    subset='validation'\n",
        ")"
      ],
      "execution_count": null,
      "outputs": [
        {
          "output_type": "stream",
          "text": [
            "Found 8530 images belonging to 9 classes.\n",
            "Found 2127 images belonging to 9 classes.\n"
          ],
          "name": "stdout"
        }
      ]
    },
    {
      "cell_type": "markdown",
      "metadata": {
        "id": "-T5UapbFL3lm"
      },
      "source": [
        "Menggunakan Model Sequential\n",
        "\n",
        "Layer Conv2D dan Maxpooling "
      ]
    },
    {
      "cell_type": "code",
      "metadata": {
        "id": "4qZNJn-T2a0d"
      },
      "source": [
        "from tensorflow import keras\n",
        "from tensorflow.keras import layers\n",
        "\n",
        "model = keras.Sequential([\n",
        "    layers.Conv2D(32, (3,3), activation='relu', input_shape=(160, 160, 3)),\n",
        "    layers.MaxPooling2D(2, 2),\n",
        "    layers.Dropout(0.2),\n",
        "    layers.Conv2D(64, (3,3), activation='relu'),\n",
        "    layers.MaxPooling2D(2,2),\n",
        "    layers.Conv2D(128, (3,3), activation='relu'),\n",
        "    layers.MaxPooling2D(2,2),\n",
        "    layers.Conv2D(256, (3,3), activation='relu'),\n",
        "    layers.MaxPooling2D(2,2),\n",
        "    layers.Conv2D(512, (3,3), activation='relu'),\n",
        "    layers.MaxPooling2D(2,2),\n",
        "    layers.Dropout(0.5),\n",
        "    layers.Flatten(),\n",
        "    layers.Dense(512, activation='relu'),\n",
        "    layers.Dropout(0.2),\n",
        "    layers.Dense(256, activation='relu'),\n",
        "    layers.Dropout(0.2),\n",
        "    layers.Dense(9, activation='softmax')\n",
        "])"
      ],
      "execution_count": null,
      "outputs": []
    },
    {
      "cell_type": "markdown",
      "metadata": {
        "id": "JQW55nSfNjYf"
      },
      "source": [
        "Menggunakan Callback on_epoch_end"
      ]
    },
    {
      "cell_type": "code",
      "metadata": {
        "id": "Cnm2DQfbG55w"
      },
      "source": [
        "from tensorflow.keras.callbacks import Callback\n",
        "\n",
        "class MyCallback(Callback):\n",
        "   def on_epoch_end(self, epoch, logs={}):\n",
        "     if(logs.get('accuracy')>0.92 and logs.get('val_accuracy')>0.92):\n",
        "       print(\"\\nModel mencapai 92% of Accuracy\")\n",
        "       self.model.stop_training=True\n",
        "\n",
        "callbacks = MyCallback()"
      ],
      "execution_count": null,
      "outputs": []
    },
    {
      "cell_type": "markdown",
      "metadata": {
        "id": "FUmx2UNGNvDw"
      },
      "source": [
        "Menggunakan Optimizer Adam"
      ]
    },
    {
      "cell_type": "code",
      "metadata": {
        "id": "2Zco6jEVHBRV"
      },
      "source": [
        "from tensorflow.keras.optimizers import Adam\n",
        "\n",
        "Adam(learning_rate=0.0001, name='Adam')\n",
        "\n",
        "model.compile(loss='categorical_crossentropy',\n",
        "              metrics='accuracy',\n",
        "              optimizer='Adam'\n",
        ")"
      ],
      "execution_count": null,
      "outputs": []
    },
    {
      "cell_type": "markdown",
      "metadata": {
        "id": "7AD23V5PNzKO"
      },
      "source": [
        "Train Model"
      ]
    },
    {
      "cell_type": "code",
      "metadata": {
        "colab": {
          "base_uri": "https://localhost:8080/"
        },
        "id": "UD0cQKZnHLbi",
        "outputId": "b47cba9d-57d0-49ff-9e5e-d1bf5dceb26d"
      },
      "source": [
        "hist = model.fit(\n",
        "    train_gen,\n",
        "    batch_size=32,\n",
        "    epochs=100,\n",
        "    steps_per_epoch=8530 // 32,\n",
        "    validation_data=validation_gen,\n",
        "    validation_steps=2127 // 32,\n",
        "    verbose=1,\n",
        "    callbacks=[callbacks]\n",
        ")"
      ],
      "execution_count": null,
      "outputs": [
        {
          "output_type": "stream",
          "text": [
            "Epoch 1/100\n",
            "266/266 [==============================] - 72s 269ms/step - loss: 1.9289 - accuracy: 0.2837 - val_loss: 1.5831 - val_accuracy: 0.4257\n",
            "Epoch 2/100\n",
            "266/266 [==============================] - 71s 268ms/step - loss: 1.2131 - accuracy: 0.5783 - val_loss: 0.9726 - val_accuracy: 0.6667\n",
            "Epoch 3/100\n",
            "266/266 [==============================] - 71s 267ms/step - loss: 0.7464 - accuracy: 0.7481 - val_loss: 0.7709 - val_accuracy: 0.7562\n",
            "Epoch 4/100\n",
            "266/266 [==============================] - 73s 275ms/step - loss: 0.5505 - accuracy: 0.8216 - val_loss: 0.6778 - val_accuracy: 0.7879\n",
            "Epoch 5/100\n",
            "266/266 [==============================] - 71s 268ms/step - loss: 0.4097 - accuracy: 0.8700 - val_loss: 0.4691 - val_accuracy: 0.8561\n",
            "Epoch 6/100\n",
            "266/266 [==============================] - 73s 274ms/step - loss: 0.3327 - accuracy: 0.8956 - val_loss: 0.4418 - val_accuracy: 0.8674\n",
            "Epoch 7/100\n",
            "266/266 [==============================] - 71s 266ms/step - loss: 0.2688 - accuracy: 0.9147 - val_loss: 0.3949 - val_accuracy: 0.8797\n",
            "Epoch 8/100\n",
            "266/266 [==============================] - 71s 266ms/step - loss: 0.2329 - accuracy: 0.9259 - val_loss: 0.4241 - val_accuracy: 0.8788\n",
            "Epoch 9/100\n",
            "266/266 [==============================] - 71s 268ms/step - loss: 0.2079 - accuracy: 0.9308 - val_loss: 0.3946 - val_accuracy: 0.8845\n",
            "Epoch 10/100\n",
            "266/266 [==============================] - 73s 273ms/step - loss: 0.1859 - accuracy: 0.9401 - val_loss: 0.3623 - val_accuracy: 0.8996\n",
            "Epoch 11/100\n",
            "266/266 [==============================] - 71s 268ms/step - loss: 0.1685 - accuracy: 0.9480 - val_loss: 0.3946 - val_accuracy: 0.8996\n",
            "Epoch 12/100\n",
            "266/266 [==============================] - 72s 271ms/step - loss: 0.1511 - accuracy: 0.9521 - val_loss: 0.6605 - val_accuracy: 0.8471\n",
            "Epoch 13/100\n",
            "266/266 [==============================] - 72s 272ms/step - loss: 0.1617 - accuracy: 0.9514 - val_loss: 0.4181 - val_accuracy: 0.8958\n",
            "Epoch 14/100\n",
            "266/266 [==============================] - 72s 269ms/step - loss: 0.1292 - accuracy: 0.9620 - val_loss: 0.3420 - val_accuracy: 0.9067\n",
            "Epoch 15/100\n",
            "266/266 [==============================] - 72s 270ms/step - loss: 0.1192 - accuracy: 0.9629 - val_loss: 0.3464 - val_accuracy: 0.9077\n",
            "Epoch 16/100\n",
            "266/266 [==============================] - 72s 270ms/step - loss: 0.1104 - accuracy: 0.9663 - val_loss: 0.3678 - val_accuracy: 0.9105\n",
            "Epoch 17/100\n",
            "266/266 [==============================] - 74s 279ms/step - loss: 0.1214 - accuracy: 0.9645 - val_loss: 0.3091 - val_accuracy: 0.9100\n",
            "Epoch 18/100\n",
            "266/266 [==============================] - 72s 272ms/step - loss: 0.1117 - accuracy: 0.9628 - val_loss: 0.3664 - val_accuracy: 0.9039\n",
            "Epoch 19/100\n",
            "266/266 [==============================] - 72s 270ms/step - loss: 0.1115 - accuracy: 0.9678 - val_loss: 0.3831 - val_accuracy: 0.9186\n",
            "Epoch 20/100\n",
            "266/266 [==============================] - 72s 272ms/step - loss: 0.1035 - accuracy: 0.9678 - val_loss: 0.4011 - val_accuracy: 0.9100\n",
            "Epoch 21/100\n",
            "266/266 [==============================] - 72s 271ms/step - loss: 0.0845 - accuracy: 0.9748 - val_loss: 0.3798 - val_accuracy: 0.9044\n",
            "Epoch 22/100\n",
            "266/266 [==============================] - 74s 277ms/step - loss: 0.0877 - accuracy: 0.9746 - val_loss: 0.3535 - val_accuracy: 0.9162\n",
            "Epoch 23/100\n",
            "266/266 [==============================] - 72s 272ms/step - loss: 0.0666 - accuracy: 0.9795 - val_loss: 0.3969 - val_accuracy: 0.9134\n",
            "Epoch 24/100\n",
            "266/266 [==============================] - 71s 267ms/step - loss: 0.1154 - accuracy: 0.9666 - val_loss: 0.3731 - val_accuracy: 0.8949\n",
            "Epoch 25/100\n",
            "266/266 [==============================] - 71s 268ms/step - loss: 0.0871 - accuracy: 0.9721 - val_loss: 0.4190 - val_accuracy: 0.8987\n",
            "Epoch 26/100\n",
            "266/266 [==============================] - 71s 267ms/step - loss: 0.0906 - accuracy: 0.9734 - val_loss: 0.3737 - val_accuracy: 0.9081\n",
            "Epoch 27/100\n",
            "266/266 [==============================] - 71s 267ms/step - loss: 0.0944 - accuracy: 0.9723 - val_loss: 0.3652 - val_accuracy: 0.9115\n",
            "Epoch 28/100\n",
            "266/266 [==============================] - 71s 267ms/step - loss: 0.0709 - accuracy: 0.9782 - val_loss: 0.3752 - val_accuracy: 0.9167\n",
            "Epoch 29/100\n",
            "266/266 [==============================] - 71s 267ms/step - loss: 0.0633 - accuracy: 0.9808 - val_loss: 0.5226 - val_accuracy: 0.8840\n",
            "Epoch 30/100\n",
            "266/266 [==============================] - 71s 268ms/step - loss: 0.0904 - accuracy: 0.9732 - val_loss: 0.4199 - val_accuracy: 0.8958\n",
            "Epoch 31/100\n",
            "266/266 [==============================] - 72s 270ms/step - loss: 0.0598 - accuracy: 0.9821 - val_loss: 0.4471 - val_accuracy: 0.9134\n",
            "Epoch 32/100\n",
            "266/266 [==============================] - 71s 268ms/step - loss: 0.0588 - accuracy: 0.9813 - val_loss: 0.4831 - val_accuracy: 0.9129\n",
            "Epoch 33/100\n",
            "266/266 [==============================] - 71s 269ms/step - loss: 0.0798 - accuracy: 0.9780 - val_loss: 0.3746 - val_accuracy: 0.9219\n",
            "\n",
            "Model mencapai 92% of Accuracy\n"
          ],
          "name": "stdout"
        }
      ]
    },
    {
      "cell_type": "markdown",
      "metadata": {
        "id": "9QjSgE_fN-gF"
      },
      "source": [
        "Setelah Accuracy Model mencapai 92 % train model stop \n",
        "\n",
        "Plot Accuracy dan Loss Model"
      ]
    },
    {
      "cell_type": "code",
      "metadata": {
        "colab": {
          "base_uri": "https://localhost:8080/",
          "height": 295
        },
        "id": "PwsuXkWZHl1r",
        "outputId": "02e792d5-f050-40a7-b589-365faf07757e"
      },
      "source": [
        "import matplotlib.pyplot as plt\n",
        "\n",
        "plt.plot(hist.history['accuracy'])\n",
        "plt.plot(hist.history['val_accuracy'])\n",
        "plt.title('Grafik Plot Akurasi Model')\n",
        "plt.ylabel('Accuracy')\n",
        "plt.xlabel('Epoch')\n",
        "plt.legend(['Train', 'Test'], loc='lower right')\n",
        "plt.show()"
      ],
      "execution_count": null,
      "outputs": [
        {
          "output_type": "display_data",
          "data": {
            "image/png": "[encoded data removed]",
            "text/plain": [
              "<Figure size 432x288 with 1 Axes>"
            ]
          },
          "metadata": {
            "tags": [],
            "needs_background": "light"
          }
        }
      ]
    },
    {
      "cell_type": "code",
      "metadata": {
        "colab": {
          "base_uri": "https://localhost:8080/",
          "height": 295
        },
        "id": "jVDW3kwgLXjh",
        "outputId": "f2e8658e-837b-4aa2-b6b6-cdb9bf16a826"
      },
      "source": [
        "plt.plot(hist.history['loss'])\n",
        "plt.plot(hist.history['val_loss'])\n",
        "plt.title('Grafik Plot Loss Model')\n",
        "plt.ylabel('Loss')\n",
        "plt.xlabel('Epoch')\n",
        "plt.legend(['Train', 'Test'], loc='upper right')\n",
        "plt.show()"
      ],
      "execution_count": null,
      "outputs": [
        {
          "output_type": "display_data",
          "data": {
            "image/png": "[encoded data removed]",
            "text/plain": [
              "<Figure size 432x288 with 1 Axes>"
            ]
          },
          "metadata": {
            "tags": [],
            "needs_background": "light"
          }
        }
      ]
    },
    {
      "cell_type": "markdown",
      "metadata": {
        "id": "YVBc41W3ODmd"
      },
      "source": [
        "Coba gunakan untuk Predict"
      ]
    },
    {
      "cell_type": "code",
      "metadata": {
        "colab": {
          "resources": {
            "http://localhost:8080/nbextensions/google.colab/files.js": {
              "data": "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",
              "ok": true,
              "headers": [
                [
                  "content-type",
                  "application/javascript"
                ]
              ],
              "status": 200,
              "status_text": ""
            }
          },
          "base_uri": "https://localhost:8080/",
          "height": 409
        },
        "id": "28Sv3mZqLcLN",
        "outputId": "f5faf2ce-495a-4778-d6f7-503aaf3c256e"
      },
      "source": [
        "import numpy as np\n",
        "import matplotlib.pyplot as plt\n",
        "import matplotlib.image as mpimg\n",
        "from google.colab import files\n",
        "from keras.preprocessing import image\n",
        "%matplotlib inline\n",
        "\n",
        "uploaded = files.upload()\n",
        "\n",
        "for file_upload in uploaded.keys():\n",
        "\n",
        "  path = file_upload\n",
        "  img = image.load_img(path, target_size=(160,160))\n",
        "  imgplot = plt.imshow(img)\n",
        "  x = image.img_to_array(img)\n",
        "  x = np.expand_dims(x, axis=0)\n",
        "\n",
        "  images = np.vstack([x])\n",
        "  classes = model.predict(images, batch_size=32)\n",
        "  \n",
        "  print(\"\\n\")\n",
        "  print('Hasil Prediksi : ',classes[0],'\\n')\n",
        "\n",
        "  if classes[0][0] == 1:\n",
        "    print('Kategori Gambar : Bart Simpson')\n",
        "  elif classes[0][1] == 1:\n",
        "    print('Kategori Gambar : Charles Montgomery')\n",
        "  elif classes[0][2] == 1:\n",
        "    print('Kategori Gambar : Homer Simpson')\n",
        "  elif classes[0][3] == 1:\n",
        "    print('Kategori Gambar : Krusty the Clown')\n",
        "  elif classes[0][4] == 1:\n",
        "    print('Kategori Gambar : Marge Simpson')\n",
        "  elif classes[0][5] == 1:\n",
        "    print('Kategori Gambar : Milhouse van Houten')\n",
        "  elif classes[0][6] == 1:\n",
        "    print('Kategori Gambar : Moe Szyslak')\n",
        "  elif classes[0][7] == 1:\n",
        "    print('Kategori Gambar : Ned Flanders')\n",
        "  else:\n",
        "    print('Kategori Gambar : Principal Skinner')"
      ],
      "execution_count": null,
      "outputs": [
        {
          "output_type": "display_data",
          "data": {
            "text/html": [
              "\n",
              "     <input type=\"file\" id=\"files-383d3543-15a3-4626-ab2c-4620199123c3\" name=\"files[]\" multiple disabled\n",
              "        style=\"border:none\" />\n",
              "     <output id=\"result-383d3543-15a3-4626-ab2c-4620199123c3\">\n",
              "      Upload widget is only available when the cell has been executed in the\n",
              "      current browser session. Please rerun this cell to enable.\n",
              "      </output>\n",
              "      <script src=\"/nbextensions/google.colab/files.js\"></script> "
            ],
            "text/plain": [
              "<IPython.core.display.HTML object>"
            ]
          },
          "metadata": {
            "tags": []
          }
        },
        {
          "output_type": "stream",
          "text": [
            "Saving eba21443ca4d71cc9552a26aaf8c165e.jpg to eba21443ca4d71cc9552a26aaf8c165e.jpg\n",
            "\n",
            "\n",
            "Hasil Prediksi :  [1. 0. 0. 0. 0. 0. 0. 0. 0.] \n",
            "\n",
            "Kategori Gambar : Bart Simpson\n"
          ],
          "name": "stdout"
        },
        {
          "output_type": "display_data",
          "data": {
            "image/png": "[encoded data removed]",
            "text/plain": [
              "<Figure size 432x288 with 1 Axes>"
            ]
          },
          "metadata": {
            "tags": [],
            "needs_background": "light"
          }
        }
      ]
    },
    {
      "cell_type": "markdown",
      "metadata": {
        "id": "05bRrVXKONpk"
      },
      "source": [
        "Simpan model kedalam model TF-Lite"
      ]
    },
    {
      "cell_type": "code",
      "metadata": {
        "colab": {
          "base_uri": "https://localhost:8080/"
        },
        "id": "-cvKz9bFDFNW",
        "outputId": "9c3415be-5ebd-4c83-f744-c9477c034a0c"
      },
      "source": [
        "import warnings\n",
        "import tensorflow as tf\n",
        "\n",
        "warnings.filterwarnings('ignore')\n",
        "\n",
        "converter = tf.lite.TFLiteConverter.from_keras_model(model)\n",
        "tflite_model = converter.convert()\n",
        "\n",
        "with open('Simpson_Classifier.tflite', 'wb') as f:\n",
        "  f.write(tflite_model)"
      ],
      "execution_count": null,
      "outputs": [
        {
          "output_type": "stream",
          "text": [
            "INFO:tensorflow:Assets written to: /tmp/tmpa3r2c7uv/assets\n"
          ],
          "name": "stdout"
        }
      ]
    },
    {
      "cell_type": "code",
      "metadata": {
        "id": "KmLHflCPElsA"
      },
      "source": [
        ""
      ],
      "execution_count": null,
      "outputs": []
    }
  ]
}