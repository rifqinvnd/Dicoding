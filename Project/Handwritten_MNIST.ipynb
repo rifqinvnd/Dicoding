{
  "nbformat": 4,
  "nbformat_minor": 0,
  "metadata": {
    "colab": {
      "name": "Handwritten MNIST",
      "provenance": [],
      "collapsed_sections": []
    },
    "kernelspec": {
      "name": "python3",
      "display_name": "Python 3"
    },
    "language_info": {
      "name": "python"
    }
  },
  "cells": [
    {
      "cell_type": "code",
      "execution_count": 1,
      "metadata": {
        "id": "KlHAChsawvQu"
      },
      "outputs": [],
      "source": [
        "# =============================================================================\n",
        "# Handwritten digits problem\n",
        "#\n",
        "# Here, I try to create a classifier for the MNIST Handwritten digit dataset. (http://yann.lecun.com/exdb/mnist/)\n",
        "# The input is 28 px by 28 px of black and white pictures. The test will expect it to classify 10 classes (number 0 to 9).\n",
        "#\n",
        "# Desired accuracy AND validation_accuracy > 95%\n",
        "# =============================================================================\n",
        "\n",
        "import tensorflow as tf"
      ]
    },
    {
      "cell_type": "code",
      "source": [
        "def handwritten():\n",
        "    mnist = tf.keras.datasets.mnist\n",
        "\n",
        "    class myCallback(tf.keras.callbacks.Callback):\n",
        "        def on_epoch_end(self, epoch, logs={}):\n",
        "            if(logs.get('accuracy')> 0.95 and logs.get('val_accuracy')> 0.95):\n",
        "                print(\"\\nReached desired accuracy so cancelling training!\")\n",
        "                self.model.stop_training = True\n",
        "\n",
        "    callbacks = myCallback()\n",
        "\n",
        "    (x_train, y_train), (x_test, y_test) = mnist.load_data()\n",
        "    x_train, x_test = x_train/255.0, x_test/255.0\n",
        "\n",
        "    model = tf.keras.models.Sequential([\n",
        "        tf.keras.layers.Flatten(input_shape=(28, 28)),\n",
        "        tf.keras.layers.Dense(512, activation=tf.nn.relu),\n",
        "        tf.keras.layers.Dense(10, activation=tf.nn.softmax)\n",
        "    ])\n",
        "    model.compile(optimizer='adam', loss='sparse_categorical_crossentropy',\n",
        "                  metrics=['accuracy'])\n",
        "    model.fit(x_train, y_train, epochs=10, callbacks=[callbacks],\n",
        "              validation_data=(x_test, y_test), verbose=1)\n",
        "    return model"
      ],
      "metadata": {
        "id": "cKBdn-7qxA8S"
      },
      "execution_count": 2,
      "outputs": []
    },
    {
      "cell_type": "code",
      "source": [
        "if __name__ == '__main__':\n",
        "    model = handwritten()\n",
        "    model.save(\"handwritten.h5\")"
      ],
      "metadata": {
        "id": "NR7rr7P7xP6E"
      },
      "execution_count": null,
      "outputs": []
    }
  ]
}