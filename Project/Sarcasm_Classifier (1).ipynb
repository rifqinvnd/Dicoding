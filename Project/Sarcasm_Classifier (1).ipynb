{
  "nbformat": 4,
  "nbformat_minor": 0,
  "metadata": {
    "colab": {
      "name": "Sarcasm Classifier.ipynb",
      "provenance": [],
      "collapsed_sections": []
    },
    "kernelspec": {
      "name": "python3",
      "display_name": "Python 3"
    },
    "language_info": {
      "name": "python"
    }
  },
  "cells": [
    {
      "cell_type": "code",
      "execution_count": null,
      "metadata": {
        "id": "FJZRPYXxwQig"
      },
      "outputs": [],
      "source": [
        "# =====================================================================================================\n",
        "# NLP problem\n",
        "#\n",
        "# In this exercise I try to build and train a classifier for the sarcasm dataset.\n",
        "#\n",
        "# Dataset used in this problem is built by Rishabh Misra (https://rishabhmisra.github.io/publications).\n",
        "#\n",
        "# Desired accuracy and validation_accuracy > 80%\n",
        "# =======================================================================================================\n",
        "\n",
        "import json\n",
        "import tensorflow as tf\n",
        "import numpy as np\n",
        "from tensorflow.keras.preprocessing.text import Tokenizer\n",
        "from tensorflow.keras.preprocessing.sequence import pad_sequences"
      ]
    },
    {
      "cell_type": "code",
      "source": [
        "def nlp():\n",
        "    vocab_size = 1000\n",
        "    embedding_dim = 16\n",
        "    max_length = 120\n",
        "    trunc_type='post'\n",
        "    padding_type='post'\n",
        "    oov_tok = \"<OOV>\"\n",
        "    training_size = 20000\n",
        "\n",
        "    sentences = []\n",
        "    labels = []\n",
        "\n",
        "    class myCallback(tf.keras.callbacks.Callback):\n",
        "        def on_epoch_end(self, epoch, logs={}):\n",
        "            if (logs.get('accuracy') > 0.8 and logs.get('val_accuracy') > 0.8):\n",
        "                print(\"\\nReached desired accuracy so cancelling training!\")\n",
        "                self.model.stop_training = True\n",
        "                \n",
        "    callbacks = myCallback()\n",
        "\n",
        "    file = open(\"../dataset/sarcasm.json\", 'r', encoding='utf-8')\n",
        "    for line in file.readlines():\n",
        "        row = json.loads(line)\n",
        "        sentences.append(row['headline'])\n",
        "        labels.append(row['is_sarcastic'])\n",
        "\n",
        "    training_sentences = sentences[:training_size]\n",
        "    testing_sentences = sentences[training_size:]\n",
        "    training_labels = labels[:training_size]\n",
        "    testing_labels = labels[training_size:]\n",
        "\n",
        "    tokenizer = Tokenizer(num_words=vocab_size, oov_token=oov_tok)\n",
        "    tokenizer.fit_on_texts(training_sentences)\n",
        "\n",
        "    training_sequences = tokenizer.texts_to_sequences(training_sentences)\n",
        "    training_padded = pad_sequences(training_sequences, maxlen=max_length, padding=padding_type, truncating=trunc_type)\n",
        "    testing_sequences = tokenizer.texts_to_sequences(testing_sentences)\n",
        "    testing_padded = pad_sequences(testing_sequences, maxlen=max_length, padding=padding_type, truncating=trunc_type)\n",
        "\n",
        "    model = tf.keras.Sequential([\n",
        "        tf.keras.layers.Embedding(vocab_size, embedding_dim, input_length=max_length),\n",
        "        tf.keras.layers.Conv1D(128, 5, activation='relu'),\n",
        "        tf.keras.layers.Conv1D(64, 5, activation='relu'),\n",
        "        tf.keras.layers.GlobalMaxPooling1D(),\n",
        "        tf.keras.layers.Dense(24, activation='relu'),\n",
        "        tf.keras.layers.Dense(1, activation='sigmoid')\n",
        "    ])\n",
        "    model.compile(loss=\"binary_crossentropy\", optimizer='adam', metrics=['accuracy'])\n",
        "    model.summary()\n",
        "\n",
        "    training_padded = np.array(training_padded)\n",
        "    training_labels = np.array(training_labels)\n",
        "    testing_padded = np.array(testing_padded)\n",
        "    testing_labels = np.array(testing_labels)\n",
        "\n",
        "    model.fit(training_padded, training_labels, epochs=100,\n",
        "              validation_data=(testing_padded, testing_labels),\n",
        "              verbose=1, steps_per_epoch=20,\n",
        "              validation_steps=5, callbacks=[callbacks])\n",
        "    return model"
      ],
      "metadata": {
        "id": "QieLr3iKwR7w"
      },
      "execution_count": null,
      "outputs": []
    },
    {
      "cell_type": "code",
      "source": [
        "if __name__ == '__main__':\n",
        "    model = nlp()\n",
        "    model.save(\"nlp.h5\")"
      ],
      "metadata": {
        "id": "ztwBfG0SwhaW"
      },
      "execution_count": null,
      "outputs": []
    }
  ]
}